{
 "cells": [
  {
   "cell_type": "code",
   "execution_count": 2,
   "id": "b64fd87c",
   "metadata": {},
   "outputs": [],
   "source": [
    "import os\n",
    "import re\n",
    "import json\n",
    "import argparse\n",
    "from tqdm import tqdm\n",
    "\n",
    "p = print"
   ]
  },
  {
   "cell_type": "code",
   "execution_count": 4,
   "id": "89ebb832",
   "metadata": {},
   "outputs": [],
   "source": [
    "query_file = \"../../../0_CLEF_Baseline/fa/all.topics.v1.jsonl\""
   ]
  },
  {
   "cell_type": "code",
   "execution_count": 17,
   "id": "13995bab",
   "metadata": {},
   "outputs": [
    {
     "name": "stdout",
     "output_type": "stream",
     "text": [
      "551-AH\n",
      "Wimbledon tennis cup\n"
     ]
    }
   ],
   "source": [
    "    #     fname = os.path.join(args.root, filename)\n",
    "    qid = \"topic_id\"\n",
    "    field = \"topic_title\"\n",
    "    fname = \"./detelete.tsv\"\n",
    "    map_qid = True\n",
    "    truecase = True\n",
    "    \n",
    "    qid_map = {}\n",
    "    with open(query_file) as f, open(fname, \"w\") as g:\n",
    "        for i, line in enumerate(f):\n",
    "            tmp = json.loads(line)\n",
    "            #qid, qtext = tmp[qid], tmp[args.field]\n",
    "            qid = tmp[qid]\n",
    "            p(qid)\n",
    "            qtext = [e for e in tmp['topics'] if e['lang'] == 'eng'][0][field]\n",
    "            p(qtext)\n",
    "            if map_qid:\n",
    "                qid_map[i+1] = qid\n",
    "                qid = i+1\n",
    "            if not truecase:\n",
    "                qtext = qtext.lower()\n",
    "            g.write(f\"{qid}\\t{qtext}\\n\")\n",
    "            break"
   ]
  },
  {
   "cell_type": "code",
   "execution_count": null,
   "id": "3ec6a79d",
   "metadata": {},
   "outputs": [],
   "source": []
  }
 ],
 "metadata": {
  "kernelspec": {
   "display_name": "Python 3 (ipykernel)",
   "language": "python",
   "name": "python3"
  },
  "language_info": {
   "codemirror_mode": {
    "name": "ipython",
    "version": 3
   },
   "file_extension": ".py",
   "mimetype": "text/x-python",
   "name": "python",
   "nbconvert_exporter": "python",
   "pygments_lexer": "ipython3",
   "version": "3.8.11"
  }
 },
 "nbformat": 4,
 "nbformat_minor": 5
}
